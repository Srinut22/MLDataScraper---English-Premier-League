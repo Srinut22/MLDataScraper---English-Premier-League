{
 "cells": [
  {
   "cell_type": "code",
   "execution_count": null,
   "id": "3ae36ef9",
   "metadata": {},
   "outputs": [],
   "source": [
    "import requests\n",
    "from bs4 import BeautifulSoup"
   ]
  },
  {
   "cell_type": "code",
   "execution_count": null,
   "id": "1003cafa",
   "metadata": {},
   "outputs": [],
   "source": [
    "HTML_markup = (requests.get(\"https://fbref.com/en/squads/361ca564/Tottenham-Hotspur-Stats\")).text\n",
    "parsed_code = BeautifulSoup(HTML_markup, 'html.parser')"
   ]
  },
  {
   "cell_type": "code",
   "execution_count": null,
   "id": "22e4ad13",
   "metadata": {
    "scrolled": true
   },
   "outputs": [],
   "source": [
    "#parsed_code"
   ]
  },
  {
   "cell_type": "code",
   "execution_count": null,
   "id": "c0143b74",
   "metadata": {
    "scrolled": true
   },
   "outputs": [],
   "source": [
    "table = parsed_code.find_all(\"div\", attrs={'table_wrapper tabbed'})\n",
    "def is_desired_td(tag):\n",
    "    return tag.name == 'td' and tag.has_attr('data-stat') and tag['data-stat'] in [\"goals_for\", \"goals_against\", \"opponent\"]\n",
    "values = parsed_code.find_all(is_desired_td)\n",
    "#print(values)"
   ]
  },
  {
   "cell_type": "code",
   "execution_count": null,
   "id": "206e1bb8",
   "metadata": {},
   "outputs": [],
   "source": [
    "years = []\n",
    "\n",
    "for year in range(2023, 20, -1):\n",
    "    academic_year = f\"{year}-{year + 1}\"\n",
    "    years.append(academic_year)\n",
    "\n",
    "# Print the list of academic years\n",
    "print(years)"
   ]
  },
  {
   "cell_type": "code",
   "execution_count": null,
   "id": "9bdf0d74",
   "metadata": {
    "scrolled": true
   },
   "outputs": [],
   "source": [
    "for year in years:\n",
    "    HTML_markup = (requests.get(f\"https://fbref.com/en/squads/361ca564/{year}/Tottenham-Hotspur-Stats\")).text\n",
    "    print(f\"_____________________________________________________{year}____________________________________\")\n",
    "    print(HTML_markup)"
   ]
  },
  {
   "cell_type": "code",
   "execution_count": null,
   "id": "a309c884",
   "metadata": {},
   "outputs": [],
   "source": []
  },
  {
   "cell_type": "code",
   "execution_count": null,
   "id": "7917e729",
   "metadata": {},
   "outputs": [],
   "source": []
  },
  {
   "cell_type": "code",
   "execution_count": null,
   "id": "d7ae87f9",
   "metadata": {},
   "outputs": [],
   "source": []
  }
 ],
 "metadata": {
  "kernelspec": {
   "display_name": "Python 3 (ipykernel)",
   "language": "python",
   "name": "python3"
  },
  "language_info": {
   "codemirror_mode": {
    "name": "ipython",
    "version": 3
   },
   "file_extension": ".py",
   "mimetype": "text/x-python",
   "name": "python",
   "nbconvert_exporter": "python",
   "pygments_lexer": "ipython3",
   "version": "3.11.5"
  }
 },
 "nbformat": 4,
 "nbformat_minor": 5
}
